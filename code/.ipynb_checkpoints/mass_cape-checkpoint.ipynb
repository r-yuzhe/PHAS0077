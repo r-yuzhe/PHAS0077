{
 "cells": [
  {
   "cell_type": "code",
   "execution_count": 8,
   "id": "8f437351-199e-46bb-9752-4ed49eb3489d",
   "metadata": {},
   "outputs": [],
   "source": [
    "import numpy as np\n",
    "import metpy\n",
    "import metpy.calc as mpcalc\n",
    "from metpy.units import units\n",
    "import pint\n",
    "import tensorflow as tf\n",
    "import pickle\n",
    "from sklearn.metrics import precision_score,recall_score,f1_score,classification_report"
   ]
  },
  {
   "cell_type": "code",
   "execution_count": 9,
   "id": "45c05d54-cd07-4044-b6b8-d50882a4d35f",
   "metadata": {},
   "outputs": [],
   "source": [
    "#open the digit code txt file\n",
    "with open('digit code.txt','r') as f:\n",
    "    digit_code = f.read().splitlines()\n",
    "digit_code.remove('Europe')\n",
    "digit_code.remove('North America')\n",
    "digit_code.remove('South America')\n",
    "digit_code.remove('Southeast Asia')"
   ]
  },
  {
   "cell_type": "code",
   "execution_count": 10,
   "id": "6512837a-dc3c-489c-b879-73465faa1e67",
   "metadata": {},
   "outputs": [],
   "source": [
    "# calculate the true cape of MASS profile\n",
    "# input: data(2d array): one MASS profile\n",
    "# return: cape(quantity): a float value with unit\n",
    "def calculate_cape(data):\n",
    "    temp=data[:,0]\n",
    "    pressure=data[:,1]\n",
    "    specific_humidity=data[:,2]\n",
    "    t=temp*units('degK')\n",
    "    p=pressure*units('Pa')\n",
    "    s=specific_humidity*units('kg/kg')\n",
    "    dewpoint=mpcalc.dewpoint_from_specific_humidity(p,t,s)\n",
    "    cape,cin=mpcalc.most_unstable_cape_cin(p,t,dewpoint)\n",
    "    return cape"
   ]
  },
  {
   "cell_type": "code",
   "execution_count": 11,
   "id": "4be0fbea-2aca-4b3f-be46-d949ca63d895",
   "metadata": {},
   "outputs": [],
   "source": [
    "# process of each MASS profile to have the same structure as sounding data\n",
    "# input: m(2d array): one MASS profile\n",
    "# return: e(1d array): MASS data with \n",
    "def data_process(m):\n",
    "    m_trans_units=m.copy()\n",
    "    m_trans_units[:,0]=m_trans_units[:,0]-273.15\n",
    "    m_trans_units[:,1]=m_trans_units[:,1]/100\n",
    "    m_trans_units[:,2]=m_trans_units[:,2]/(1-m_trans_units[:,2])\n",
    "    m_trans_units[:,2]=m_trans_units[:,2]*1000\n",
    "    m_trans_units=m_trans_units[::-1]\n",
    "    e=m_trans_units.reshape(1,210)\n",
    "    return e"
   ]
  },
  {
   "cell_type": "code",
   "execution_count": 12,
   "id": "699e641c-673b-4845-972d-78159405731e",
   "metadata": {},
   "outputs": [],
   "source": [
    "# get the dates over 2020\n",
    "years='2020'\n",
    "months=['01','02','03','04','05','06','07','08','09','10','11','12']\n",
    "days=[]\n",
    "ddays=[]\n",
    "for i in range(9):\n",
    "    days.append('0'+str(i+1))\n",
    "    ddays.append('0'+str(i+1))\n",
    "for i in range(10):\n",
    "    days.append('1'+str(i))\n",
    "    ddays.append('1'+str(i))\n",
    "for i in range(10):\n",
    "    days.append('2'+str(i))\n",
    "    ddays.append('2'+str(i))\n",
    "leapdays=days.copy()\n",
    "noleapdays=days.copy()\n",
    "noleapdays.remove('29')\n",
    "days.append('30')\n",
    "days.append('31')\n",
    "ddays.append('30')"
   ]
  },
  {
   "cell_type": "code",
   "execution_count": 14,
   "id": "d38cd4b4-e5bc-4ce1-9b56-7729d14660a5",
   "metadata": {},
   "outputs": [],
   "source": [
    "# get date over 2020\n",
    "dates=[]\n",
    "for month in months:\n",
    "    if month in ['01','03','05','07','08','10','12']:\n",
    "        for day in days:\n",
    "            dates.append(month+day)\n",
    "    elif month=='02':\n",
    "            for day in leapdays:\n",
    "                dates.append(month+day)\n",
    "    else:\n",
    "        for day in ddays:\n",
    "            dates.append(month+day)"
   ]
  },
  {
   "cell_type": "code",
   "execution_count": 15,
   "id": "e1f5d27c-26b3-4cc1-9e53-40481e6f9ee3",
   "metadata": {},
   "outputs": [
    {
     "name": "stdout",
     "output_type": "stream",
     "text": [
      "100.06775956284165\r"
     ]
    }
   ],
   "source": [
    "# get mass data into a list\n",
    "data=[]\n",
    "j=0\n",
    "for date in dates:\n",
    "    j=j+1\n",
    "    for i in digit_code:\n",
    "        m=np.loadtxt('massdata/2020'+date+'_00_000/'+i,delimiter=',')\n",
    "        data.append(m)\n",
    "    print(j/366*100,end='\\r')"
   ]
  },
  {
   "cell_type": "code",
   "execution_count": 17,
   "id": "592a761c-16f0-402f-bf6e-a851ac52f030",
   "metadata": {},
   "outputs": [],
   "source": [
    "#process MASS data to have the same sturcture as souning data\n",
    "mass=[]\n",
    "j=0\n",
    "for e in data:\n",
    "    j=j+1\n",
    "    u=data_process(e)\n",
    "    mass.append(u)\n",
    "x_mass=np.array(mass)\n",
    "x_mass=x_mass.reshape(x_mass.shape[0],210)"
   ]
  },
  {
   "cell_type": "code",
   "execution_count": 20,
   "id": "2c7f2ad8-7e94-4cae-aea0-901499b4f91e",
   "metadata": {},
   "outputs": [
    {
     "name": "stderr",
     "output_type": "stream",
     "text": [
      "/Users/renyuzhe/miniforge3/envs/tf/lib/python3.8/site-packages/pint/numpy_func.py:303: RuntimeWarning: invalid value encountered in log\n",
      "  result_magnitude = func(*stripped_args, **stripped_kwargs)\n",
      "/Users/renyuzhe/miniforge3/envs/tf/lib/python3.8/site-packages/pint/numpy_func.py:303: RuntimeWarning: overflow encountered in exp\n",
      "  result_magnitude = func(*stripped_args, **stripped_kwargs)\n",
      "/Users/renyuzhe/miniforge3/envs/tf/lib/python3.8/site-packages/pint/quantity.py:1237: RuntimeWarning: invalid value encountered in true_divide\n",
      "  magnitude = magnitude_op(new_self._magnitude, other._magnitude)\n"
     ]
    },
    {
     "name": "stdout",
     "output_type": "stream",
     "text": [
      "0.479132018690108464\r"
     ]
    },
    {
     "name": "stderr",
     "output_type": "stream",
     "text": [
      "/Users/renyuzhe/miniforge3/envs/tf/lib/python3.8/site-packages/metpy/interpolate/one_dimension.py:137: UserWarning: Interpolation point out of data bounds encountered\n",
      "  warnings.warn('Interpolation point out of data bounds encountered')\n"
     ]
    },
    {
     "name": "stdout",
     "output_type": "stream",
     "text": [
      "14.4135582481983054\r"
     ]
    },
    {
     "name": "stderr",
     "output_type": "stream",
     "text": [
      "/Users/renyuzhe/miniforge3/envs/tf/lib/python3.8/site-packages/pint/numpy_func.py:303: RuntimeWarning: divide by zero encountered in log\n",
      "  result_magnitude = func(*stripped_args, **stripped_kwargs)\n"
     ]
    },
    {
     "name": "stdout",
     "output_type": "stream",
     "text": [
      "49.750534568781184\r"
     ]
    },
    {
     "name": "stderr",
     "output_type": "stream",
     "text": [
      "/Users/renyuzhe/miniforge3/envs/tf/lib/python3.8/site-packages/metpy/calc/thermo.py:1042: UserWarning: Relative humidity >120%, ensure proper units.\n",
      "  warnings.warn('Relative humidity >120%, ensure proper units.')\n"
     ]
    },
    {
     "name": "stdout",
     "output_type": "stream",
     "text": [
      "100.06040231250494\r"
     ]
    }
   ],
   "source": [
    "# calculate the true cape\n",
    "true_cape=[]\n",
    "i=0\n",
    "for e in data:\n",
    "    i=i+1\n",
    "    true_cape.append(calculate_cape(e).magnitude)\n",
    "    print(i/len(data)*100,end='\\r')"
   ]
  },
  {
   "cell_type": "code",
   "execution_count": 21,
   "id": "90bee3ae-60f3-491b-8f80-1033cad04d0e",
   "metadata": {},
   "outputs": [],
   "source": [
    "# save as .txt files\n",
    "np.savetxt(\"MASScape.txt\",np.array(true_cape))\n",
    "np.savetxt(\"x_mass.txt\",x_mass)"
   ]
  },
  {
   "cell_type": "code",
   "execution_count": null,
   "id": "fbefc2c4-f082-4cc6-83b4-adf18c8233c2",
   "metadata": {},
   "outputs": [],
   "source": []
  }
 ],
 "metadata": {
  "kernelspec": {
   "display_name": "Python 3",
   "language": "python",
   "name": "python3"
  },
  "language_info": {
   "codemirror_mode": {
    "name": "ipython",
    "version": 3
   },
   "file_extension": ".py",
   "mimetype": "text/x-python",
   "name": "python",
   "nbconvert_exporter": "python",
   "pygments_lexer": "ipython3",
   "version": "3.8.10"
  }
 },
 "nbformat": 4,
 "nbformat_minor": 5
}
